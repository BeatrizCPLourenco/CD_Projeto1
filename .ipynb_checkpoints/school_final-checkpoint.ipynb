{
 "cells": [
  {
   "cell_type": "markdown",
   "metadata": {},
   "source": [
    "# Projeto 1 - Ciência dos Dados"
   ]
  },
  {
   "cell_type": "markdown",
   "metadata": {},
   "source": [
    "Nome: Beatriz Lourenço"
   ]
  },
  {
   "cell_type": "markdown",
   "metadata": {},
   "source": [
    "## Os projetos realizados pela Malala Foundation estão impactando o número de meninas nas escolas?"
   ]
  },
  {
   "cell_type": "markdown",
   "metadata": {},
   "source": [
    "## Explicação da hipótese e mecanismo"
   ]
  },
  {
   "cell_type": "markdown",
   "metadata": {},
   "source": [
    "Com os recentes investimentos realizados pelo Malala Fund a partir de 2013, ano em que a fundação foi criada, a hipótese se fundamentada na possibilidade de perceber melhora no número de meninas matriculadas na escola nos paises investidos a partir dos dados como seria esperado e é o objetivo da fundação.\n"
   ]
  },
  {
   "cell_type": "markdown",
   "metadata": {},
   "source": [
    "## Bases de dados usadas"
   ]
  },
  {
   "cell_type": "markdown",
   "metadata": {},
   "source": [
    "https://data.worldbank.org/indicator/SE.SEC.ENRR.FE?view=chart\n",
    "Os dados usados foram apenas os países e o número de meninas matriculadas no ensino secundário respectivos.\n",
    "\n",
    "https://pt.wikipedia.org/wiki/Lista_de_pa%C3%ADses_por_Índice_de_Desenvolvimento_Humano\n",
    "Usado como parâmetro para selecionar os países com IDH similar aos países ajudados pela fundação."
   ]
  },
  {
   "cell_type": "markdown",
   "metadata": {},
   "source": [
    "## Análise de dados"
   ]
  },
  {
   "cell_type": "markdown",
   "metadata": {},
   "source": [
    "Insira abaixo uma análise de dados tratada para ter maior clareza. \n",
    "\n",
    "Lembre-se de que, além deste arquivo principal, você precisa entregar um ou mais *notebooks* mais brutos com todas as tentativas que fez e que não deram certo .\n",
    "\n",
    "**Não inclua dados ou gráficos sem motivação nem interpretação** - sempre que fizer uma análise, plot ou tablea, diga qual sua intenção. Logo após a apresentação diga qual conclusão específica ou interpretação você tira daquela análise"
   ]
  },
  {
   "cell_type": "code",
   "execution_count": 2,
   "metadata": {},
   "outputs": [],
   "source": [
    "%matplotlib inline\n",
    "import pandas as pd\n",
    "import matplotlib.pyplot as plt\n",
    "import matplotlib\n",
    "import numpy as np\n",
    "import seaborn as sns\n",
    "import os\n",
    "meu_diretorio = \"/Users/beatriz/Documents/GitHub/CD_Projeto1\"\n",
    "os.chdir(meu_diretorio)"
   ]
  },
  {
   "cell_type": "code",
   "execution_count": 3,
   "metadata": {},
   "outputs": [],
   "source": [
    "dados = pd.read_excel('school.xlsx')\n",
    "dados.set_index('Country Name', inplace = True)"
   ]
  },
  {
   "cell_type": "markdown",
   "metadata": {},
   "source": [
    "___"
   ]
  },
  {
   "cell_type": "markdown",
   "metadata": {},
   "source": [
    "Tabela com apenas os países onde a fundação atua."
   ]
  },
  {
   "cell_type": "code",
   "execution_count": 4,
   "metadata": {},
   "outputs": [
    {
     "name": "stderr",
     "output_type": "stream",
     "text": [
      "/anaconda3/lib/python3.7/site-packages/ipykernel_launcher.py:1: FutureWarning: \n",
      "Passing list-likes to .loc or [] with any missing label will raise\n",
      "KeyError in the future, you can use .reindex() as an alternative.\n",
      "\n",
      "See the documentation here:\n",
      "https://pandas.pydata.org/pandas-docs/stable/indexing.html#deprecate-loc-reindex-listlike\n",
      "  \"\"\"Entry point for launching an IPython kernel.\n"
     ]
    },
    {
     "data": {
      "text/html": [
       "<div>\n",
       "<style scoped>\n",
       "    .dataframe tbody tr th:only-of-type {\n",
       "        vertical-align: middle;\n",
       "    }\n",
       "\n",
       "    .dataframe tbody tr th {\n",
       "        vertical-align: top;\n",
       "    }\n",
       "\n",
       "    .dataframe thead th {\n",
       "        text-align: right;\n",
       "    }\n",
       "</style>\n",
       "<table border=\"1\" class=\"dataframe\">\n",
       "  <thead>\n",
       "    <tr style=\"text-align: right;\">\n",
       "      <th></th>\n",
       "      <th>2000</th>\n",
       "      <th>2001</th>\n",
       "      <th>2002</th>\n",
       "      <th>2003</th>\n",
       "      <th>2004</th>\n",
       "      <th>2005</th>\n",
       "      <th>2006</th>\n",
       "      <th>2007</th>\n",
       "      <th>2008</th>\n",
       "      <th>2009</th>\n",
       "      <th>2010</th>\n",
       "      <th>2011</th>\n",
       "      <th>2012</th>\n",
       "      <th>2013</th>\n",
       "      <th>2014</th>\n",
       "      <th>2015</th>\n",
       "      <th>2016</th>\n",
       "      <th>2017</th>\n",
       "    </tr>\n",
       "    <tr>\n",
       "      <th>Country Name</th>\n",
       "      <th></th>\n",
       "      <th></th>\n",
       "      <th></th>\n",
       "      <th></th>\n",
       "      <th></th>\n",
       "      <th></th>\n",
       "      <th></th>\n",
       "      <th></th>\n",
       "      <th></th>\n",
       "      <th></th>\n",
       "      <th></th>\n",
       "      <th></th>\n",
       "      <th></th>\n",
       "      <th></th>\n",
       "      <th></th>\n",
       "      <th></th>\n",
       "      <th></th>\n",
       "      <th></th>\n",
       "    </tr>\n",
       "  </thead>\n",
       "  <tbody>\n",
       "    <tr>\n",
       "      <th>Afghanistan</th>\n",
       "      <td>NaN</td>\n",
       "      <td>0.000000</td>\n",
       "      <td>NaN</td>\n",
       "      <td>6.604480</td>\n",
       "      <td>6.142060</td>\n",
       "      <td>9.311640</td>\n",
       "      <td>15.310530</td>\n",
       "      <td>15.77887</td>\n",
       "      <td>23.166981</td>\n",
       "      <td>29.386511</td>\n",
       "      <td>34.295952</td>\n",
       "      <td>37.822868</td>\n",
       "      <td>39.401779</td>\n",
       "      <td>39.138439</td>\n",
       "      <td>38.565651</td>\n",
       "      <td>38.566120</td>\n",
       "      <td>38.023510</td>\n",
       "      <td>39.631741</td>\n",
       "    </tr>\n",
       "    <tr>\n",
       "      <th>Brazil</th>\n",
       "      <td>NaN</td>\n",
       "      <td>NaN</td>\n",
       "      <td>114.120399</td>\n",
       "      <td>107.328438</td>\n",
       "      <td>107.351440</td>\n",
       "      <td>106.214539</td>\n",
       "      <td>NaN</td>\n",
       "      <td>100.83815</td>\n",
       "      <td>102.601608</td>\n",
       "      <td>102.123627</td>\n",
       "      <td>NaN</td>\n",
       "      <td>99.854240</td>\n",
       "      <td>97.015198</td>\n",
       "      <td>105.836540</td>\n",
       "      <td>105.167038</td>\n",
       "      <td>102.856148</td>\n",
       "      <td>103.944748</td>\n",
       "      <td>NaN</td>\n",
       "    </tr>\n",
       "    <tr>\n",
       "      <th>India</th>\n",
       "      <td>37.115879</td>\n",
       "      <td>37.551590</td>\n",
       "      <td>40.034061</td>\n",
       "      <td>44.224072</td>\n",
       "      <td>45.859200</td>\n",
       "      <td>48.739090</td>\n",
       "      <td>49.975231</td>\n",
       "      <td>53.05336</td>\n",
       "      <td>56.764400</td>\n",
       "      <td>57.285240</td>\n",
       "      <td>60.869720</td>\n",
       "      <td>64.430557</td>\n",
       "      <td>67.394402</td>\n",
       "      <td>69.247360</td>\n",
       "      <td>74.802902</td>\n",
       "      <td>74.461906</td>\n",
       "      <td>75.829063</td>\n",
       "      <td>NaN</td>\n",
       "    </tr>\n",
       "    <tr>\n",
       "      <th>Nigeria</th>\n",
       "      <td>22.432060</td>\n",
       "      <td>24.510401</td>\n",
       "      <td>25.537140</td>\n",
       "      <td>NaN</td>\n",
       "      <td>31.002609</td>\n",
       "      <td>31.663710</td>\n",
       "      <td>30.891590</td>\n",
       "      <td>27.66478</td>\n",
       "      <td>32.116798</td>\n",
       "      <td>36.429390</td>\n",
       "      <td>41.172810</td>\n",
       "      <td>41.871319</td>\n",
       "      <td>44.932861</td>\n",
       "      <td>53.488239</td>\n",
       "      <td>42.983879</td>\n",
       "      <td>44.645988</td>\n",
       "      <td>39.803871</td>\n",
       "      <td>NaN</td>\n",
       "    </tr>\n",
       "    <tr>\n",
       "      <th>Pakistan</th>\n",
       "      <td>NaN</td>\n",
       "      <td>NaN</td>\n",
       "      <td>NaN</td>\n",
       "      <td>NaN</td>\n",
       "      <td>NaN</td>\n",
       "      <td>NaN</td>\n",
       "      <td>28.022129</td>\n",
       "      <td>29.78093</td>\n",
       "      <td>30.182341</td>\n",
       "      <td>31.015280</td>\n",
       "      <td>31.026711</td>\n",
       "      <td>31.285990</td>\n",
       "      <td>32.164570</td>\n",
       "      <td>33.352669</td>\n",
       "      <td>36.495640</td>\n",
       "      <td>39.080101</td>\n",
       "      <td>41.116192</td>\n",
       "      <td>40.575840</td>\n",
       "    </tr>\n",
       "    <tr>\n",
       "      <th>Syria</th>\n",
       "      <td>NaN</td>\n",
       "      <td>NaN</td>\n",
       "      <td>NaN</td>\n",
       "      <td>NaN</td>\n",
       "      <td>NaN</td>\n",
       "      <td>NaN</td>\n",
       "      <td>NaN</td>\n",
       "      <td>NaN</td>\n",
       "      <td>NaN</td>\n",
       "      <td>NaN</td>\n",
       "      <td>NaN</td>\n",
       "      <td>NaN</td>\n",
       "      <td>NaN</td>\n",
       "      <td>NaN</td>\n",
       "      <td>NaN</td>\n",
       "      <td>NaN</td>\n",
       "      <td>NaN</td>\n",
       "      <td>NaN</td>\n",
       "    </tr>\n",
       "  </tbody>\n",
       "</table>\n",
       "</div>"
      ],
      "text/plain": [
       "                   2000       2001        2002        2003        2004  \\\n",
       "Country Name                                                             \n",
       "Afghanistan         NaN   0.000000         NaN    6.604480    6.142060   \n",
       "Brazil              NaN        NaN  114.120399  107.328438  107.351440   \n",
       "India         37.115879  37.551590   40.034061   44.224072   45.859200   \n",
       "Nigeria       22.432060  24.510401   25.537140         NaN   31.002609   \n",
       "Pakistan            NaN        NaN         NaN         NaN         NaN   \n",
       "Syria               NaN        NaN         NaN         NaN         NaN   \n",
       "\n",
       "                    2005       2006       2007        2008        2009  \\\n",
       "Country Name                                                             \n",
       "Afghanistan     9.311640  15.310530   15.77887   23.166981   29.386511   \n",
       "Brazil        106.214539        NaN  100.83815  102.601608  102.123627   \n",
       "India          48.739090  49.975231   53.05336   56.764400   57.285240   \n",
       "Nigeria        31.663710  30.891590   27.66478   32.116798   36.429390   \n",
       "Pakistan             NaN  28.022129   29.78093   30.182341   31.015280   \n",
       "Syria                NaN        NaN        NaN         NaN         NaN   \n",
       "\n",
       "                   2010       2011       2012        2013        2014  \\\n",
       "Country Name                                                            \n",
       "Afghanistan   34.295952  37.822868  39.401779   39.138439   38.565651   \n",
       "Brazil              NaN  99.854240  97.015198  105.836540  105.167038   \n",
       "India         60.869720  64.430557  67.394402   69.247360   74.802902   \n",
       "Nigeria       41.172810  41.871319  44.932861   53.488239   42.983879   \n",
       "Pakistan      31.026711  31.285990  32.164570   33.352669   36.495640   \n",
       "Syria               NaN        NaN        NaN         NaN         NaN   \n",
       "\n",
       "                    2015        2016       2017  \n",
       "Country Name                                     \n",
       "Afghanistan    38.566120   38.023510  39.631741  \n",
       "Brazil        102.856148  103.944748        NaN  \n",
       "India          74.461906   75.829063        NaN  \n",
       "Nigeria        44.645988   39.803871        NaN  \n",
       "Pakistan       39.080101   41.116192  40.575840  \n",
       "Syria                NaN         NaN        NaN  "
      ]
     },
     "execution_count": 4,
     "metadata": {},
     "output_type": "execute_result"
    }
   ],
   "source": [
    "dados_in = dados.loc[[\"Afghanistan\", \"Brazil\", \"India\", \"Nigeria\", \"Pakistan\", \"Syria\"]]\n",
    "dados_in"
   ]
  },
  {
   "cell_type": "code",
   "execution_count": 5,
   "metadata": {},
   "outputs": [
    {
     "data": {
      "text/plain": [
       "2000    29.773970\n",
       "2001    20.687330\n",
       "2002    59.897200\n",
       "2003    52.718996\n",
       "2004    47.588827\n",
       "2005    48.982244\n",
       "2006    31.049870\n",
       "2007    45.423218\n",
       "2008    48.966426\n",
       "2009    51.248009\n",
       "2010    41.841298\n",
       "2011    55.052995\n",
       "2012    56.181762\n",
       "2013    60.212650\n",
       "2014    59.603022\n",
       "2015    59.922053\n",
       "2016    59.743477\n",
       "2017    40.103790\n",
       "Name: mean, dtype: float64"
      ]
     },
     "execution_count": 5,
     "metadata": {},
     "output_type": "execute_result"
    }
   ],
   "source": [
    "in_d = dados_in.describe()\n",
    "in_d = in_d.loc['mean']\n",
    "in_d"
   ]
  },
  {
   "cell_type": "markdown",
   "metadata": {},
   "source": [
    "___"
   ]
  },
  {
   "cell_type": "markdown",
   "metadata": {},
   "source": [
    "Tabela com apenas os países com IDH parecido com os países selecionados ateriormente."
   ]
  },
  {
   "cell_type": "code",
   "execution_count": 6,
   "metadata": {},
   "outputs": [
    {
     "name": "stderr",
     "output_type": "stream",
     "text": [
      "/anaconda3/lib/python3.7/site-packages/ipykernel_launcher.py:1: FutureWarning: \n",
      "Passing list-likes to .loc or [] with any missing label will raise\n",
      "KeyError in the future, you can use .reindex() as an alternative.\n",
      "\n",
      "See the documentation here:\n",
      "https://pandas.pydata.org/pandas-docs/stable/indexing.html#deprecate-loc-reindex-listlike\n",
      "  \"\"\"Entry point for launching an IPython kernel.\n"
     ]
    },
    {
     "data": {
      "text/html": [
       "<div>\n",
       "<style scoped>\n",
       "    .dataframe tbody tr th:only-of-type {\n",
       "        vertical-align: middle;\n",
       "    }\n",
       "\n",
       "    .dataframe tbody tr th {\n",
       "        vertical-align: top;\n",
       "    }\n",
       "\n",
       "    .dataframe thead th {\n",
       "        text-align: right;\n",
       "    }\n",
       "</style>\n",
       "<table border=\"1\" class=\"dataframe\">\n",
       "  <thead>\n",
       "    <tr style=\"text-align: right;\">\n",
       "      <th></th>\n",
       "      <th>2000</th>\n",
       "      <th>2001</th>\n",
       "      <th>2002</th>\n",
       "      <th>2003</th>\n",
       "      <th>2004</th>\n",
       "      <th>2005</th>\n",
       "      <th>2006</th>\n",
       "      <th>2007</th>\n",
       "      <th>2008</th>\n",
       "      <th>2009</th>\n",
       "      <th>2010</th>\n",
       "      <th>2011</th>\n",
       "      <th>2012</th>\n",
       "      <th>2013</th>\n",
       "      <th>2014</th>\n",
       "      <th>2015</th>\n",
       "      <th>2016</th>\n",
       "      <th>2017</th>\n",
       "    </tr>\n",
       "    <tr>\n",
       "      <th>Country Name</th>\n",
       "      <th></th>\n",
       "      <th></th>\n",
       "      <th></th>\n",
       "      <th></th>\n",
       "      <th></th>\n",
       "      <th></th>\n",
       "      <th></th>\n",
       "      <th></th>\n",
       "      <th></th>\n",
       "      <th></th>\n",
       "      <th></th>\n",
       "      <th></th>\n",
       "      <th></th>\n",
       "      <th></th>\n",
       "      <th></th>\n",
       "      <th></th>\n",
       "      <th></th>\n",
       "      <th></th>\n",
       "    </tr>\n",
       "  </thead>\n",
       "  <tbody>\n",
       "    <tr>\n",
       "      <th>Sudan</th>\n",
       "      <td>NaN</td>\n",
       "      <td>31.008730</td>\n",
       "      <td>33.899609</td>\n",
       "      <td>34.311852</td>\n",
       "      <td>37.556660</td>\n",
       "      <td>37.341869</td>\n",
       "      <td>36.043781</td>\n",
       "      <td>34.563629</td>\n",
       "      <td>36.306431</td>\n",
       "      <td>39.395378</td>\n",
       "      <td>39.575920</td>\n",
       "      <td>36.014179</td>\n",
       "      <td>39.478790</td>\n",
       "      <td>42.523430</td>\n",
       "      <td>42.913288</td>\n",
       "      <td>45.530159</td>\n",
       "      <td>43.947769</td>\n",
       "      <td>47.268230</td>\n",
       "    </tr>\n",
       "    <tr>\n",
       "      <th>Venezuela</th>\n",
       "      <td>NaN</td>\n",
       "      <td>NaN</td>\n",
       "      <td>NaN</td>\n",
       "      <td>NaN</td>\n",
       "      <td>NaN</td>\n",
       "      <td>NaN</td>\n",
       "      <td>NaN</td>\n",
       "      <td>NaN</td>\n",
       "      <td>NaN</td>\n",
       "      <td>NaN</td>\n",
       "      <td>NaN</td>\n",
       "      <td>NaN</td>\n",
       "      <td>NaN</td>\n",
       "      <td>NaN</td>\n",
       "      <td>NaN</td>\n",
       "      <td>NaN</td>\n",
       "      <td>NaN</td>\n",
       "      <td>NaN</td>\n",
       "    </tr>\n",
       "    <tr>\n",
       "      <th>Timor-Leste</th>\n",
       "      <td>NaN</td>\n",
       "      <td>NaN</td>\n",
       "      <td>NaN</td>\n",
       "      <td>NaN</td>\n",
       "      <td>52.881039</td>\n",
       "      <td>51.755970</td>\n",
       "      <td>NaN</td>\n",
       "      <td>NaN</td>\n",
       "      <td>49.499680</td>\n",
       "      <td>59.509911</td>\n",
       "      <td>60.763420</td>\n",
       "      <td>62.287552</td>\n",
       "      <td>62.162739</td>\n",
       "      <td>61.256409</td>\n",
       "      <td>64.803970</td>\n",
       "      <td>70.315132</td>\n",
       "      <td>77.054230</td>\n",
       "      <td>82.563011</td>\n",
       "    </tr>\n",
       "    <tr>\n",
       "      <th>Zimbabwe</th>\n",
       "      <td>41.041309</td>\n",
       "      <td>41.962891</td>\n",
       "      <td>39.844200</td>\n",
       "      <td>36.753300</td>\n",
       "      <td>NaN</td>\n",
       "      <td>NaN</td>\n",
       "      <td>NaN</td>\n",
       "      <td>NaN</td>\n",
       "      <td>NaN</td>\n",
       "      <td>NaN</td>\n",
       "      <td>NaN</td>\n",
       "      <td>NaN</td>\n",
       "      <td>45.726028</td>\n",
       "      <td>46.650440</td>\n",
       "      <td>NaN</td>\n",
       "      <td>NaN</td>\n",
       "      <td>NaN</td>\n",
       "      <td>NaN</td>\n",
       "    </tr>\n",
       "    <tr>\n",
       "      <th>Rwanda</th>\n",
       "      <td>10.115690</td>\n",
       "      <td>10.638140</td>\n",
       "      <td>11.512540</td>\n",
       "      <td>12.328020</td>\n",
       "      <td>14.130940</td>\n",
       "      <td>15.428960</td>\n",
       "      <td>17.489000</td>\n",
       "      <td>19.690701</td>\n",
       "      <td>21.494740</td>\n",
       "      <td>26.370239</td>\n",
       "      <td>32.835709</td>\n",
       "      <td>37.237728</td>\n",
       "      <td>40.177368</td>\n",
       "      <td>42.234661</td>\n",
       "      <td>41.597919</td>\n",
       "      <td>38.874378</td>\n",
       "      <td>38.356071</td>\n",
       "      <td>40.295681</td>\n",
       "    </tr>\n",
       "    <tr>\n",
       "      <th>Nepal</th>\n",
       "      <td>29.049290</td>\n",
       "      <td>31.764549</td>\n",
       "      <td>35.873150</td>\n",
       "      <td>37.759201</td>\n",
       "      <td>NaN</td>\n",
       "      <td>43.528530</td>\n",
       "      <td>41.758751</td>\n",
       "      <td>42.117321</td>\n",
       "      <td>48.531010</td>\n",
       "      <td>49.004349</td>\n",
       "      <td>57.353008</td>\n",
       "      <td>60.745098</td>\n",
       "      <td>65.607979</td>\n",
       "      <td>67.485741</td>\n",
       "      <td>68.904266</td>\n",
       "      <td>69.552383</td>\n",
       "      <td>72.065819</td>\n",
       "      <td>75.040024</td>\n",
       "    </tr>\n",
       "    <tr>\n",
       "      <th>Cameroon</th>\n",
       "      <td>NaN</td>\n",
       "      <td>29.641821</td>\n",
       "      <td>21.986460</td>\n",
       "      <td>27.798630</td>\n",
       "      <td>23.997169</td>\n",
       "      <td>24.488461</td>\n",
       "      <td>21.381861</td>\n",
       "      <td>29.031401</td>\n",
       "      <td>33.480450</td>\n",
       "      <td>37.856121</td>\n",
       "      <td>NaN</td>\n",
       "      <td>45.546150</td>\n",
       "      <td>48.941448</td>\n",
       "      <td>50.657372</td>\n",
       "      <td>54.389530</td>\n",
       "      <td>56.000889</td>\n",
       "      <td>57.089260</td>\n",
       "      <td>NaN</td>\n",
       "    </tr>\n",
       "    <tr>\n",
       "      <th>Lebanon</th>\n",
       "      <td>98.147034</td>\n",
       "      <td>95.309471</td>\n",
       "      <td>92.799980</td>\n",
       "      <td>89.390923</td>\n",
       "      <td>85.355942</td>\n",
       "      <td>80.788300</td>\n",
       "      <td>77.141563</td>\n",
       "      <td>77.141701</td>\n",
       "      <td>76.665550</td>\n",
       "      <td>77.831810</td>\n",
       "      <td>76.048500</td>\n",
       "      <td>76.424187</td>\n",
       "      <td>71.405350</td>\n",
       "      <td>68.490784</td>\n",
       "      <td>61.954109</td>\n",
       "      <td>61.061131</td>\n",
       "      <td>60.139172</td>\n",
       "      <td>62.985008</td>\n",
       "    </tr>\n",
       "    <tr>\n",
       "      <th>Guatemala</th>\n",
       "      <td>28.607229</td>\n",
       "      <td>30.935270</td>\n",
       "      <td>33.842819</td>\n",
       "      <td>NaN</td>\n",
       "      <td>37.653938</td>\n",
       "      <td>39.785641</td>\n",
       "      <td>41.796650</td>\n",
       "      <td>43.595188</td>\n",
       "      <td>44.620090</td>\n",
       "      <td>46.376740</td>\n",
       "      <td>50.725670</td>\n",
       "      <td>50.986740</td>\n",
       "      <td>51.415749</td>\n",
       "      <td>51.468491</td>\n",
       "      <td>51.182510</td>\n",
       "      <td>52.555031</td>\n",
       "      <td>51.946880</td>\n",
       "      <td>51.474560</td>\n",
       "    </tr>\n",
       "  </tbody>\n",
       "</table>\n",
       "</div>"
      ],
      "text/plain": [
       "                   2000       2001       2002       2003       2004  \\\n",
       "Country Name                                                          \n",
       "Sudan               NaN  31.008730  33.899609  34.311852  37.556660   \n",
       "Venezuela           NaN        NaN        NaN        NaN        NaN   \n",
       "Timor-Leste         NaN        NaN        NaN        NaN  52.881039   \n",
       "Zimbabwe      41.041309  41.962891  39.844200  36.753300        NaN   \n",
       "Rwanda        10.115690  10.638140  11.512540  12.328020  14.130940   \n",
       "Nepal         29.049290  31.764549  35.873150  37.759201        NaN   \n",
       "Cameroon            NaN  29.641821  21.986460  27.798630  23.997169   \n",
       "Lebanon       98.147034  95.309471  92.799980  89.390923  85.355942   \n",
       "Guatemala     28.607229  30.935270  33.842819        NaN  37.653938   \n",
       "\n",
       "                   2005       2006       2007       2008       2009  \\\n",
       "Country Name                                                          \n",
       "Sudan         37.341869  36.043781  34.563629  36.306431  39.395378   \n",
       "Venezuela           NaN        NaN        NaN        NaN        NaN   \n",
       "Timor-Leste   51.755970        NaN        NaN  49.499680  59.509911   \n",
       "Zimbabwe            NaN        NaN        NaN        NaN        NaN   \n",
       "Rwanda        15.428960  17.489000  19.690701  21.494740  26.370239   \n",
       "Nepal         43.528530  41.758751  42.117321  48.531010  49.004349   \n",
       "Cameroon      24.488461  21.381861  29.031401  33.480450  37.856121   \n",
       "Lebanon       80.788300  77.141563  77.141701  76.665550  77.831810   \n",
       "Guatemala     39.785641  41.796650  43.595188  44.620090  46.376740   \n",
       "\n",
       "                   2010       2011       2012       2013       2014  \\\n",
       "Country Name                                                          \n",
       "Sudan         39.575920  36.014179  39.478790  42.523430  42.913288   \n",
       "Venezuela           NaN        NaN        NaN        NaN        NaN   \n",
       "Timor-Leste   60.763420  62.287552  62.162739  61.256409  64.803970   \n",
       "Zimbabwe            NaN        NaN  45.726028  46.650440        NaN   \n",
       "Rwanda        32.835709  37.237728  40.177368  42.234661  41.597919   \n",
       "Nepal         57.353008  60.745098  65.607979  67.485741  68.904266   \n",
       "Cameroon            NaN  45.546150  48.941448  50.657372  54.389530   \n",
       "Lebanon       76.048500  76.424187  71.405350  68.490784  61.954109   \n",
       "Guatemala     50.725670  50.986740  51.415749  51.468491  51.182510   \n",
       "\n",
       "                   2015       2016       2017  \n",
       "Country Name                                   \n",
       "Sudan         45.530159  43.947769  47.268230  \n",
       "Venezuela           NaN        NaN        NaN  \n",
       "Timor-Leste   70.315132  77.054230  82.563011  \n",
       "Zimbabwe            NaN        NaN        NaN  \n",
       "Rwanda        38.874378  38.356071  40.295681  \n",
       "Nepal         69.552383  72.065819  75.040024  \n",
       "Cameroon      56.000889  57.089260        NaN  \n",
       "Lebanon       61.061131  60.139172  62.985008  \n",
       "Guatemala     52.555031  51.946880  51.474560  "
      ]
     },
     "execution_count": 6,
     "metadata": {},
     "output_type": "execute_result"
    }
   ],
   "source": [
    "dados_out = dados.loc[[\"Sudan\", \"Venezuela\", \"Timor-Leste\", \"Zimbabwe\", \"Rwanda\", \"Nepal\", \"Cameroon\", \"Lebanon\", \"Guatemala\"]]\n",
    "dados_out"
   ]
  },
  {
   "cell_type": "code",
   "execution_count": 7,
   "metadata": {},
   "outputs": [
    {
     "data": {
      "text/plain": [
       "2000    41.392110\n",
       "2001    38.751553\n",
       "2002    38.536965\n",
       "2003    39.723654\n",
       "2004    41.929281\n",
       "2005    41.873961\n",
       "2006    39.268601\n",
       "2007    41.023323\n",
       "2008    44.371136\n",
       "2009    48.049221\n",
       "2010    52.883705\n",
       "2011    52.748805\n",
       "2012    53.114431\n",
       "2013    53.845916\n",
       "2014    55.106513\n",
       "2015    56.269872\n",
       "2016    57.228457\n",
       "2017    59.937752\n",
       "Name: mean, dtype: float64"
      ]
     },
     "execution_count": 7,
     "metadata": {},
     "output_type": "execute_result"
    }
   ],
   "source": [
    "out_d = dados_out.describe()\n",
    "out_d = out_d.loc['mean']\n",
    "out_d"
   ]
  },
  {
   "cell_type": "markdown",
   "metadata": {},
   "source": [
    "___"
   ]
  },
  {
   "cell_type": "markdown",
   "metadata": {},
   "source": [
    "Planilha com a variação nas matrículas. Primeiro os países beneficiados e em segundo os países selecionados com IDH similar."
   ]
  },
  {
   "cell_type": "code",
   "execution_count": 8,
   "metadata": {},
   "outputs": [],
   "source": [
    "# d_in = pd.read_excel('schooldin.xlsx')\n",
    "# d_in.set_index('Country Name', inplace=True)\n",
    "# din =  d_in.describe()\n",
    "# din = din.loc['mean']\n",
    "# colunas = [\"2001.1\", \"2002.1\", \"2003.1\", \"2004.1\", \"2005.1\", \"2006.1\", \"2007.1\", \"2008.1\", \"2009.1\", \"2010.1\", \"2011.1\", \"2012.1\", \"2013.1\", \"2014.1\", \"2015.1\", \"2016.1\", \"2017.1\"]\n",
    "# din = din[colunas]\n",
    "# din = dados_in.describe()\n",
    "# din = din.loc['mean']\n",
    "# din"
   ]
  },
  {
   "cell_type": "code",
   "execution_count": 9,
   "metadata": {},
   "outputs": [],
   "source": [
    "# d_out = pd.read_excel('schooldout.xlsx')\n",
    "# d_out.set_index('Country Name', inplace=True)\n",
    "# dout =  d_out.describe()\n",
    "# dout = dout.loc['mean']\n",
    "# colunas = [\"2001.1\", \"2002.1\", \"2003.1\", \"2004.1\", \"2005.1\", \"2006.1\", \"2007.1\", \"2008.1\", \"2009.1\", \"2010.1\", \"2011.1\", \"2012.1\", \"2013.1\", \"2014.1\", \"2015.1\", \"2016.1\", \"2017.1\"]\n",
    "# dout = dout[colunas]\n",
    "# dout = dados_out.describe()\n",
    "# dout = dout.loc['mean']\n",
    "# dout"
   ]
  },
  {
   "cell_type": "markdown",
   "metadata": {},
   "source": [
    "___"
   ]
  },
  {
   "cell_type": "markdown",
   "metadata": {},
   "source": [
    "Gráfico demonstrando a variação de ano em ano dos países investidos."
   ]
  },
  {
   "cell_type": "code",
   "execution_count": 10,
   "metadata": {},
   "outputs": [],
   "source": [
    "# x = din.plot(kind='bar')"
   ]
  },
  {
   "cell_type": "markdown",
   "metadata": {},
   "source": [
    "Gráfico demonstrando a variação de ano em ano dos países selecionados."
   ]
  },
  {
   "cell_type": "code",
   "execution_count": 11,
   "metadata": {},
   "outputs": [],
   "source": [
    "# y = dout.plot(kind='bar')\n",
    "# plt.title('Aumento anual da populacao feminina matriculada')\n",
    "# plt.ylabel('numero de mulheres (x mil)')"
   ]
  },
  {
   "cell_type": "code",
   "execution_count": 12,
   "metadata": {},
   "outputs": [
    {
     "data": {
      "text/plain": [
       "<matplotlib.axes._subplots.AxesSubplot at 0x1a1950ca58>"
      ]
     },
     "execution_count": 12,
     "metadata": {},
     "output_type": "execute_result"
    },
    {
     "data": {
      "image/png": "[encoded data removed]",
      "text/plain": [
       "<Figure size 432x288 with 1 Axes>"
      ]
     },
     "metadata": {
      "needs_background": "light"
     },
     "output_type": "display_data"
    }
   ],
   "source": [
    "dados_in2 = dados_in\n",
    "dados_in2 = dados_in2.transpose()\n",
    "dados_in2.plot()"
   ]
  },
  {
   "cell_type": "code",
   "execution_count": 13,
   "metadata": {},
   "outputs": [
    {
     "ename": "NameError",
     "evalue": "name 'dados_out2' is not defined",
     "output_type": "error",
     "traceback": [
      "\u001b[0;31m---------------------------------------------------------------------------\u001b[0m",
      "\u001b[0;31mNameError\u001b[0m                                 Traceback (most recent call last)",
      "\u001b[0;32m<ipython-input-13-dc3dcc7e8140>\u001b[0m in \u001b[0;36m<module>\u001b[0;34m\u001b[0m\n\u001b[1;32m      1\u001b[0m \u001b[0mdados_ou2\u001b[0m \u001b[0;34m=\u001b[0m \u001b[0mdados_out\u001b[0m\u001b[0;34m\u001b[0m\u001b[0;34m\u001b[0m\u001b[0m\n\u001b[0;32m----> 2\u001b[0;31m \u001b[0mdados_out2\u001b[0m \u001b[0;34m=\u001b[0m \u001b[0mdados_out2\u001b[0m\u001b[0;34m.\u001b[0m\u001b[0mtranspose\u001b[0m\u001b[0;34m(\u001b[0m\u001b[0;34m)\u001b[0m\u001b[0;34m\u001b[0m\u001b[0;34m\u001b[0m\u001b[0m\n\u001b[0m\u001b[1;32m      3\u001b[0m \u001b[0;31m# dados_out2.set_index(\"Country Name\")\u001b[0m\u001b[0;34m\u001b[0m\u001b[0;34m\u001b[0m\u001b[0;34m\u001b[0m\u001b[0m\n\u001b[1;32m      4\u001b[0m \u001b[0mdados_out2\u001b[0m\u001b[0;34m\u001b[0m\u001b[0;34m\u001b[0m\u001b[0m\n\u001b[1;32m      5\u001b[0m \u001b[0mdados_out2\u001b[0m\u001b[0;34m.\u001b[0m\u001b[0mplot\u001b[0m\u001b[0;34m(\u001b[0m\u001b[0;34m)\u001b[0m\u001b[0;34m\u001b[0m\u001b[0;34m\u001b[0m\u001b[0m\n",
      "\u001b[0;31mNameError\u001b[0m: name 'dados_out2' is not defined"
     ]
    }
   ],
   "source": [
    "dados_ou2 = dados_out\n",
    "dados_out2 = dados_out2.transpose()\n",
    "# dados_out2.set_index(\"Country Name\")\n",
    "dados_out2\n",
    "dados_out2.plot()"
   ]
  },
  {
   "cell_type": "code",
   "execution_count": null,
   "metadata": {},
   "outputs": [],
   "source": [
    "# dados_total = dados.loc[[\"Sudan\", \"Venezuela\", \"Timor-Leste\", \"Zimbabwe\", \"Rwanda\", \"Nepal\", \"Cameroon\", \"Lebanon\", \"Guatemala\", \"Afghanistan\", \"Brazil\", \"India\", \"Nigeria\", \"Pakistan\", \"Syria\"]]\n",
    "# dados_total.set_index([\"2000\", \"2001\", \"2002\", \"2003\", \"2004\", \"2005\", \"2006\", \"2007\", \"2008\", \"2009\", \"2010\", \"2011\", \"2012\", \"2013\", \"2014\", \"2015\", \"2016\", \"2017\"], inplace = True)\n",
    "# dados_total.plot()"
   ]
  },
  {
   "cell_type": "code",
   "execution_count": 24,
   "metadata": {},
   "outputs": [
    {
     "data": {
      "text/plain": [
       "<matplotlib.axes._subplots.AxesSubplot at 0x1a19482a58>"
      ]
     },
     "execution_count": 24,
     "metadata": {},
     "output_type": "execute_result"
    },
    {
     "data": {
      "image/png": "[encoded data removed]",
      "text/plain": [
       "<Figure size 432x288 with 1 Axes>"
      ]
     },
     "metadata": {
      "needs_background": "light"
     },
     "output_type": "display_data"
    }
   ],
   "source": [
    "# dados mean\n",
    "dados_in_m = dados_in.describe()\n",
    "dados_in_m = dados_in_m.loc['mean']\n",
    "dados_out_m = dados_out.describe()\n",
    "dados_out_m = dados_out_m.loc['mean']\n",
    "\n",
    "dados_in_m.plot(legend=True)\n",
    "dados_out_m.plot(legend=True)\n"
   ]
  },
  {
   "cell_type": "markdown",
   "metadata": {},
   "source": [
    "## Conclusão"
   ]
  },
  {
   "cell_type": "markdown",
   "metadata": {},
   "source": [
    "Os países analisados apresentaram melhoras a partir do primeiro ano da fundação, porém os países, no geral, apresentaram também um grande aumento no número de matrículas. Portanto não é possível afirmar que esse avanço ocorreu devido ao Malala Fund."
   ]
  }
 ],
 "metadata": {
  "kernelspec": {
   "display_name": "Python 3",
   "language": "python",
   "name": "python3"
  },
  "language_info": {
   "codemirror_mode": {
    "name": "ipython",
    "version": 3
   },
   "file_extension": ".py",
   "mimetype": "text/x-python",
   "name": "python",
   "nbconvert_exporter": "python",
   "pygments_lexer": "ipython3",
   "version": "3.7.1"
  }
 },
 "nbformat": 4,
 "nbformat_minor": 2
}
